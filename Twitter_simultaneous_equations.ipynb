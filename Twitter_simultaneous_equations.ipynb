{
 "cells": [
  {
   "cell_type": "code",
   "execution_count": 1,
   "metadata": {},
   "outputs": [],
   "source": [
    "from sympy import Eq, solveset, linsolve\n",
    "from sympy.abc import a, b, c, X\n",
    "from sympy.matrices import Matrix"
   ]
  },
  {
   "cell_type": "markdown",
   "metadata": {},
   "source": [
    "# Introduction\n",
    "There are many pictorial simultaneous equation puzzles doing the rounds on social media.  For the most part these are utterly trivial (typically the first equation is actually a single equation in one unknown of the form $a + a + a = 30$, with subsequent equations following simply once the substitution for $a$ is made).\n",
    "\n",
    "I recently came across a non-trivial example:-\n",
    "\n",
    "https://twitter.com/stendec6/status/1245091836684894208\n",
    "\n",
    "<img src='twitter_equation.jpeg' width=\"350\">\n",
    "\n",
    "# Algebraic Translation of the Problem\n",
    "Let's translate this into a set of 3 simultaneous equations in 3 unknowns (first three lines) and an expression in those unknowns that we need to evaluate.\n",
    "\n",
    "First, some assumptions:\n",
    "\n",
    "* items in pairs are of equal value (so two shoes are twice one shoe)\n",
    "* wearing or carrying an item are additions (Notice e.g. that the second row the person is carrying two paper cones of gravel(?) AND wearing boots - I missed this latter point when initially solving)\n",
    "\n",
    "Then, representing the person by $a$, a single paper cone of gravel(?) by $b$ and a single boot by $c$ the first three rows (equations) translate as follows:-\n",
    "\n",
    "## Row 1\n",
    "(person) + (2 cones of gravel) + (2 boots) = 30\n",
    "$$\n",
    "a + 2b + 2c = 30 \\ldots (EQ1)\n",
    "$$\n",
    "## Row 2\n",
    "(person carrying 2 cones wearing two boots) + (person) + (2 boots) = 20\n",
    "$$\n",
    "\\begin{align}\n",
    "    (a + 2b + 2c) + a + 2c &= 20\\\\\n",
    "    \\implies 2a + 2b + 4c &= 20 \\ldots (EQ2)\n",
    "\\end{align}\n",
    "$$\n",
    "Note that we could have already simplified here since the first term is the same as the LHS of $EQ1$ so we could have directly substituted 30 for it\n",
    "## Row 3\n",
    "(2 cones of gravel) + (2 cones of gravel) + (person) = 13\n",
    "$$\n",
    "\\begin{align}\n",
    "    2b + 2b + a &= 13\\\\\n",
    "    a + 4b &= 13 \\ldots (EQ3)\n",
    "\\end{align}\n",
    "$$\n",
    "## Row 4\n",
    "This is the expression we are asked to evaluate.  I'm going to call the result of this $X$.\n",
    "\n",
    "(boot) + (person + 2 cones + 2 boots) * (cone) = ?\n",
    "\n",
    "$$\n",
    "\\begin{align}\n",
    "c + (a + 2b + 2c)b &= X\\\\\n",
    "(EQ1)\\implies c + 30b &= X\\\\\n",
    "X &= 30b + c\n",
    "\\end{align}\n",
    "$$\n",
    "\n"
   ]
  },
  {
   "cell_type": "markdown",
   "metadata": {},
   "source": [
    "# Solution via Matrix Algebra\n",
    "We represent the three simultaneous equations $EQ1, EQ2, EQ3$:-\n",
    "\n",
    "$$\n",
    "\\begin{align}\n",
    "    a + 2b + 2c &= 30\\\\\n",
    "    2a + 2b + 4c &= 20\\\\\n",
    "    a + 4b &= 13\n",
    "\\end{align}\n",
    "$$\n",
    "\n",
    "as the matrix equation:-\n",
    "\n",
    "$$\n",
    "\\begin{align}\n",
    "    M.A &= R\n",
    "\\end{align}\n",
    "$$\n",
    "\n",
    "With $M$, $A$ and $R$ given by:-\n",
    "\n",
    "$$\n",
    "\\begin{align}\n",
    "    M &= \\begin{bmatrix}\n",
    "            1 & 2 & 2 \\\\\n",
    "            2 & 2 & 4 \\\\\n",
    "            1 & 4 & 0\n",
    "        \\end{bmatrix}\\\\\n",
    "    A &= \\begin{bmatrix}\n",
    "            a\\\\\n",
    "            b\\\\\n",
    "            c\n",
    "         \\end{bmatrix}\\\\\n",
    "    R &= \\begin{bmatrix}\n",
    "            30\\\\\n",
    "            20\\\\\n",
    "            13\n",
    "         \\end{bmatrix}\n",
    "\\end{align}\n",
    "$$\n",
    "\n",
    "To solve this matrix equation for the vector of unknowns $A$, we multiply both sides on the left by the inverse of matrix $M$, leading to the following:-\n",
    "\n",
    "$$\n",
    "\\begin{align}\n",
    "    A &= M^{-1}R\n",
    "\\end{align}\n",
    "$$\n",
    "\n",
    "\n",
    "Because I'm too lazy to do the matrix inversion by hand, I'm going to use `sympy` to do this.\n",
    "\n",
    "The matrix $M$ and vectors $A$ and $R$ are set up in `sympy` as below:-"
   ]
  },
  {
   "cell_type": "code",
   "execution_count": 2,
   "metadata": {},
   "outputs": [
    {
     "data": {
      "text/latex": [
       "$\\displaystyle \\left[\\begin{matrix}1 & 2 & 2\\\\2 & 2 & 4\\\\1 & 4 & 0\\end{matrix}\\right]$"
      ],
      "text/plain": [
       "Matrix([\n",
       "[1, 2, 2],\n",
       "[2, 2, 4],\n",
       "[1, 4, 0]])"
      ]
     },
     "metadata": {},
     "output_type": "display_data"
    },
    {
     "data": {
      "text/latex": [
       "$\\displaystyle \\left[\\begin{matrix}a\\\\b\\\\c\\end{matrix}\\right]$"
      ],
      "text/plain": [
       "Matrix([\n",
       "[a],\n",
       "[b],\n",
       "[c]])"
      ]
     },
     "metadata": {},
     "output_type": "display_data"
    },
    {
     "data": {
      "text/latex": [
       "$\\displaystyle \\left[\\begin{matrix}30\\\\20\\\\13\\end{matrix}\\right]$"
      ],
      "text/plain": [
       "Matrix([\n",
       "[30],\n",
       "[20],\n",
       "[13]])"
      ]
     },
     "metadata": {},
     "output_type": "display_data"
    }
   ],
   "source": [
    "M = Matrix([[1, 2, 2], [2, 2, 4], [1, 4, 0]])\n",
    "\n",
    "A = Matrix([\n",
    "    [a],\n",
    "    [b],\n",
    "    [c]\n",
    "])\n",
    "\n",
    "R = Matrix([\n",
    "    [30],\n",
    "    [20],\n",
    "    [13]\n",
    "])\n",
    "display(M, A, R)"
   ]
  },
  {
   "cell_type": "markdown",
   "metadata": {},
   "source": [
    "Our equation then becomes:-"
   ]
  },
  {
   "cell_type": "code",
   "execution_count": 3,
   "metadata": {},
   "outputs": [
    {
     "data": {
      "text/latex": [
       "$\\displaystyle \\left[\\begin{matrix}a + 2 b + 2 c\\\\2 a + 2 b + 4 c\\\\a + 4 b\\end{matrix}\\right] = \\left[\\begin{matrix}30\\\\20\\\\13\\end{matrix}\\right]$"
      ],
      "text/plain": [
       "Eq(Matrix([\n",
       "[  a + 2*b + 2*c],\n",
       "[2*a + 2*b + 4*c],\n",
       "[        a + 4*b]]), Matrix([\n",
       "[30],\n",
       "[20],\n",
       "[13]]))"
      ]
     },
     "execution_count": 3,
     "metadata": {},
     "output_type": "execute_result"
    }
   ],
   "source": [
    "Eq(M*A, R)"
   ]
  },
  {
   "cell_type": "markdown",
   "metadata": {},
   "source": [
    "The solution of which is given by\n",
    "$$\n",
    "\\begin{align}\n",
    "    A &= M^{-1}.R\n",
    "\\end{align}\n",
    "$$\n",
    "Which we can compute symbolically in `sympy`:-"
   ]
  },
  {
   "cell_type": "code",
   "execution_count": 4,
   "metadata": {},
   "outputs": [
    {
     "data": {
      "text/latex": [
       "$\\displaystyle \\left[\\begin{matrix}a\\\\b\\\\c\\end{matrix}\\right] = \\left[\\begin{matrix}-67\\\\20\\\\\\frac{57}{2}\\end{matrix}\\right]$"
      ],
      "text/plain": [
       "Eq(Matrix([\n",
       "[a],\n",
       "[b],\n",
       "[c]]), Matrix([\n",
       "[ -67],\n",
       "[  20],\n",
       "[57/2]]))"
      ]
     },
     "execution_count": 4,
     "metadata": {},
     "output_type": "execute_result"
    }
   ],
   "source": [
    "Eq(A, M.inv() * R)"
   ]
  },
  {
   "cell_type": "markdown",
   "metadata": {},
   "source": [
    "Assigning the RHS ($M^{-1}.R$) to $A$:-"
   ]
  },
  {
   "cell_type": "code",
   "execution_count": 5,
   "metadata": {},
   "outputs": [
    {
     "data": {
      "text/latex": [
       "$\\displaystyle \\left[\\begin{matrix}-67\\\\20\\\\\\frac{57}{2}\\end{matrix}\\right]$"
      ],
      "text/plain": [
       "Matrix([\n",
       "[ -67],\n",
       "[  20],\n",
       "[57/2]])"
      ]
     },
     "execution_count": 5,
     "metadata": {},
     "output_type": "execute_result"
    }
   ],
   "source": [
    "A = M.inv() * R\n",
    "A"
   ]
  },
  {
   "cell_type": "markdown",
   "metadata": {},
   "source": [
    "allows us to check that the original matrix equation is satisfied by our solution vector $A$:-"
   ]
  },
  {
   "cell_type": "code",
   "execution_count": 6,
   "metadata": {},
   "outputs": [
    {
     "data": {
      "text/plain": [
       "True"
      ]
     },
     "execution_count": 6,
     "metadata": {},
     "output_type": "execute_result"
    }
   ],
   "source": [
    "M*A == R"
   ]
  },
  {
   "cell_type": "markdown",
   "metadata": {},
   "source": [
    "assign the values of $a$, $b$ and $c$ from the solution vector:"
   ]
  },
  {
   "cell_type": "code",
   "execution_count": 7,
   "metadata": {},
   "outputs": [],
   "source": [
    "a, b, c = A"
   ]
  },
  {
   "cell_type": "markdown",
   "metadata": {},
   "source": [
    "and finally evaluate the required expression"
   ]
  },
  {
   "cell_type": "code",
   "execution_count": 8,
   "metadata": {},
   "outputs": [
    {
     "data": {
      "text/latex": [
       "$\\displaystyle \\frac{1257}{2}$"
      ],
      "text/plain": [
       "1257/2"
      ]
     },
     "execution_count": 8,
     "metadata": {},
     "output_type": "execute_result"
    }
   ],
   "source": [
    "X = 30*b + c\n",
    "X"
   ]
  },
  {
   "cell_type": "code",
   "execution_count": 9,
   "metadata": {},
   "outputs": [
    {
     "data": {
      "text/plain": [
       "628.5"
      ]
     },
     "execution_count": 9,
     "metadata": {},
     "output_type": "execute_result"
    }
   ],
   "source": [
    "float(X)"
   ]
  },
  {
   "cell_type": "code",
   "execution_count": null,
   "metadata": {},
   "outputs": [],
   "source": []
  }
 ],
 "metadata": {
  "kernelspec": {
   "display_name": "Python 3",
   "language": "python",
   "name": "python3"
  },
  "language_info": {
   "codemirror_mode": {
    "name": "ipython",
    "version": 3
   },
   "file_extension": ".py",
   "mimetype": "text/x-python",
   "name": "python",
   "nbconvert_exporter": "python",
   "pygments_lexer": "ipython3",
   "version": "3.6.10"
  }
 },
 "nbformat": 4,
 "nbformat_minor": 4
}
